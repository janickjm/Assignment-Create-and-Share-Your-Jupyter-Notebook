{
 "cells": [
  {
   "cell_type": "markdown",
   "id": "127efa1d-7576-40d6-b577-e36e4fd341d6",
   "metadata": {
    "tags": []
   },
   "source": [
    "# Data Science Tools and Ecosystem"
   ]
  },
  {
   "cell_type": "markdown",
   "id": "20d8e843-1187-4aac-9190-2d9b74d8ba48",
   "metadata": {},
   "source": [
    "In this notebook, Data Science Tools and Ecosystem are summarized."
   ]
  },
  {
   "cell_type": "markdown",
   "id": "38b95495-be4f-4eb8-9df3-00ae6aeac589",
   "metadata": {
    "tags": []
   },
   "source": [
    "**Objectives:**\n",
    "* List popular languages for Data\n",
    "* List data science libraries\n",
    "* Make de table of 3 Data Science Tools \n",
    "* Create an example of an arithmetic expression\n",
    "* Create an example of arithmetic expression to mutiply then add integers\n",
    "* Create an expression to convert 200 minutes in hours"
   ]
  },
  {
   "cell_type": "markdown",
   "id": "821675b6-bfbe-4ef3-a64b-4f55fff57259",
   "metadata": {
    "tags": []
   },
   "source": [
    "Some of the popular languages that Data Scientists use are:\n",
    "1. Python\n",
    "2. R\n",
    "3. SQL\n",
    "4. Julia\n",
    "5. Scala"
   ]
  },
  {
   "cell_type": "markdown",
   "id": "223dca1c-c2da-4f63-9900-1a39bbcf592e",
   "metadata": {
    "tags": []
   },
   "source": [
    "Some of the commonly used libraries used by Data Scientists include:\n",
    "1. Pandas \n",
    "2. NumPy\n",
    "3. matplotlib\n",
    "4. Seaborn\n",
    "5. Scikit-Learn\n",
    "6. Keras\n",
    "7. TensorFlow\n",
    "8. PyTorch"
   ]
  },
  {
   "cell_type": "markdown",
   "id": "1ebd6aeb-16d7-43dd-b522-46fa3f445b12",
   "metadata": {},
   "source": [
    "|Data Science Tools|\n",
    "|------------------|\n",
    "|MySQL|\n",
    "|Hadoop|\n",
    "|Apache AirFlow|"
   ]
  },
  {
   "cell_type": "markdown",
   "id": "ec964d83-54ea-44cc-9897-9c4f682efece",
   "metadata": {},
   "source": [
    "### Below are a few examples of evaluating arithmetic expressions in Python"
   ]
  },
  {
   "cell_type": "markdown",
   "id": "13121b76-24e1-4269-99b5-5fe3d1ab4b8a",
   "metadata": {},
   "source": [
    "This a simple arithmetic expression to mutiply then add integers"
   ]
  },
  {
   "cell_type": "code",
   "execution_count": 15,
   "id": "14ec900d-279a-49a3-aba7-ba26786c192e",
   "metadata": {
    "tags": []
   },
   "outputs": [
    {
     "data": {
      "text/plain": [
       "17"
      ]
     },
     "execution_count": 15,
     "metadata": {},
     "output_type": "execute_result"
    }
   ],
   "source": [
    "(3*4)+5"
   ]
  },
  {
   "cell_type": "markdown",
   "id": "30f89d2c-90e9-43f5-8cb3-39128d2f164b",
   "metadata": {},
   "source": [
    "This will convert 200 minutes to hours by diving by 60"
   ]
  },
  {
   "cell_type": "code",
   "execution_count": 16,
   "id": "33f93623-f8c1-45f8-8316-8764c2c1f8f1",
   "metadata": {
    "tags": []
   },
   "outputs": [
    {
     "name": "stdout",
     "output_type": "stream",
     "text": [
      "200 minutes converted in hours =  3.3333333333333335\n"
     ]
    }
   ],
   "source": [
    "x = 200\n",
    "y = float(x/60) \n",
    "print('200 minutes converted in hours = ',y) "
   ]
  },
  {
   "cell_type": "markdown",
   "id": "1c9de831-82d3-4224-998c-b0d4868afb5b",
   "metadata": {},
   "source": [
    "## Author\n",
    "JanicK JEAN-MARIE"
   ]
  },
  {
   "cell_type": "code",
   "execution_count": null,
   "id": "88b067c0-f7ef-48d7-aaab-a2d43c843977",
   "metadata": {},
   "outputs": [],
   "source": []
  }
 ],
 "metadata": {
  "kernelspec": {
   "display_name": "Python",
   "language": "python",
   "name": "conda-env-python-py"
  },
  "language_info": {
   "codemirror_mode": {
    "name": "ipython",
    "version": 3
   },
   "file_extension": ".py",
   "mimetype": "text/x-python",
   "name": "python",
   "nbconvert_exporter": "python",
   "pygments_lexer": "ipython3",
   "version": "3.7.12"
  }
 },
 "nbformat": 4,
 "nbformat_minor": 5
}
